{
 "cells": [
  {
   "attachments": {},
   "cell_type": "markdown",
   "metadata": {},
   "source": [
    "# Assignment 3"
   ]
  },
  {
   "attachments": {},
   "cell_type": "markdown",
   "metadata": {},
   "source": [
    "## Submit as an HTML file"
   ]
  },
  {
   "attachments": {},
   "cell_type": "markdown",
   "metadata": {},
   "source": [
    "<font size = \"5\">\n",
    "Print your Emory ID below"
   ]
  },
  {
   "cell_type": "code",
   "execution_count": 1,
   "metadata": {},
   "outputs": [
    {
     "name": "stdout",
     "output_type": "stream",
     "text": [
      "2493146\n"
     ]
    }
   ],
   "source": [
    "print(\"2493146\")"
   ]
  },
  {
   "attachments": {},
   "cell_type": "markdown",
   "metadata": {},
   "source": [
    "<font size = \"5\">\n",
    "\n",
    "Import the numpy and matplotlib packages"
   ]
  },
  {
   "cell_type": "code",
   "execution_count": 35,
   "metadata": {},
   "outputs": [],
   "source": [
    "# Write your own code\n",
    "\n",
    "import numpy as np\n",
    "import matplotlib.pyplot as plt"
   ]
  },
  {
   "attachments": {},
   "cell_type": "markdown",
   "metadata": {},
   "source": [
    "<font size = \"5\">\n",
    "\n",
    "(a) Compute a formula:\n",
    "\n",
    "<font size = \"3\">\n",
    "\n",
    "$V=P\\left(1+{\\frac {r}{n}}\\right)^{nt}$\n",
    "\n",
    "Calculate $V$ when:\n",
    "- $P = 1800 $\n",
    "- $r = 0.24$\n",
    "- $n = 12$\n",
    "- $t = 8$\n",
    "\n",
    "To get full points:\n",
    "- First define each of these variables\n",
    "- Write the formula above"
   ]
  },
  {
   "cell_type": "code",
   "execution_count": 36,
   "metadata": {},
   "outputs": [
    {
     "name": "stdout",
     "output_type": "stream",
     "text": [
      "12047.27972315071\n"
     ]
    }
   ],
   "source": [
    "# Note (if you're interested in the context)\n",
    "# V = Accumulated value of investment\n",
    "# P = Principal (the amount deposited)\n",
    "# r = Quarterly interest rate\n",
    "# n = Number of months in a year\n",
    "# t = Number of years\n",
    "\n",
    "# Write your own code\n",
    "\n",
    "P = 1800\n",
    "r = 0.24\n",
    "n = 12\n",
    "t = 8\n",
    "\n",
    "V = ( P * ((( 1 + (r / n)) ** (n * t))) )\n",
    "print(V)"
   ]
  },
  {
   "attachments": {},
   "cell_type": "markdown",
   "metadata": {},
   "source": [
    "<font size = \"5\">\n",
    "\n",
    "(b) Composite operations on arrays\n",
    "\n",
    "<font size = \"3\">\n",
    "\n",
    "- Define $r = 0.06$\n",
    "- Define two arrays $a$ and $t$ using \"np.array()\", assigning the following values <br>\n",
    "\n",
    "$ a = \\begin{pmatrix} a_0 \\\\ a_1 \\\\ a_2 \\end{pmatrix} = \\begin{pmatrix} 20 \\\\ 30 \\\\ 15 \\end{pmatrix}, \\qquad t = \\begin{pmatrix} t_0 \\\\ t_1 \\\\ t_2 \\end{pmatrix} = \\begin{pmatrix} 0 \\\\ 1 \\\\ 2 \\end{pmatrix} $\n",
    "\n",
    "- Use element-by-element vector operations to compute a new array $M$ of length 3: <br>\n",
    "\n",
    "$ M = \\begin{pmatrix} a_1 / (1+r)^{t_0} \\\\ a_2 / (1+r)^{t_1} \\\\ a_3 / (1+r)^{t_2} \\end{pmatrix} $\n",
    "\n",
    "- Compute the sum of the values of $M$ using \"M.sum()\" <br>\n",
    "Note: I am using subscripts to denote the individual elements of $a$ and $t$.\n",
    "\n",
    "- In the code just enter the values of $a$ and $t$.\n",
    "- To get full points you must do all of the above tasks\n"
   ]
  },
  {
   "cell_type": "code",
   "execution_count": 38,
   "metadata": {},
   "outputs": [
    {
     "data": {
      "text/plain": [
       "61.65183339266643"
      ]
     },
     "execution_count": 38,
     "metadata": {},
     "output_type": "execute_result"
    }
   ],
   "source": [
    "# Write your own code\n",
    "\n",
    "r = 0.06\n",
    "\n",
    "a  = np.array([20, 30, 15])\n",
    "t  = np.array([0, 1, 2])\n",
    "\n",
    "M = (a/ ((1+r)**t))\n",
    "\n",
    "M.sum()\n"
   ]
  },
  {
   "attachments": {},
   "cell_type": "markdown",
   "metadata": {},
   "source": [
    "<font size = \"5\">\n",
    "\n",
    "(c) Plot a normal random variable\n",
    "<font size = \"3\">\n",
    "\n",
    "To get full points:\n",
    "\n",
    "- Set a seed using \"np.random.seed()\"\n",
    "- Create the random variable with the following parameters\n",
    "- mean = 3.5, standard deviation = 1.5, and size = 1500\n",
    "\n",
    "- Create a histogram\n",
    "- Label the axes"
   ]
  },
  {
   "cell_type": "code",
   "execution_count": 33,
   "metadata": {},
   "outputs": [
    {
     "data": {
      "text/plain": [
       "Text(0, 0.5, 'Frequency')"
      ]
     },
     "execution_count": 33,
     "metadata": {},
     "output_type": "execute_result"
    },
    {
     "data": {
      "image/png": "[encoded data removed]",
      "text/plain": [
       "<Figure size 640x480 with 1 Axes>"
      ]
     },
     "metadata": {},
     "output_type": "display_data"
    }
   ],
   "source": [
    "# Write your own code\n",
    "\n",
    "np.random.seed(50)\n",
    "\n",
    "randomvar_x = np.random.normal(loc=3.5, scale=1.5, size=1500)\n",
    "\n",
    "plt.hist(x = randomvar_x)\n",
    "plt.xlabel(\"Variable X\")\n",
    "plt.ylabel(\"Frequency\")"
   ]
  },
  {
   "attachments": {},
   "cell_type": "markdown",
   "metadata": {},
   "source": [
    "<font size = \"5\">\n",
    "\n",
    "(d) Checking whether word is part of list\n",
    "\n",
    "<font size = \"3\">\n",
    "\n",
    "- Define a variable \"animal\" with the value \"dog\"\n",
    "- Define a list of animals with the values list_animals = [\"cat\",\"rabbit\",\"dog\"]\n",
    "- Write an expression to test whether \"animal\" is contained in \"list_animals\"\n",
    "\n",
    "Hint: Use the \"in\" command. The final output should be True/False.\n",
    "\n",
    "To get full points run all of the above commands"
   ]
  },
  {
   "cell_type": "code",
   "execution_count": 30,
   "metadata": {},
   "outputs": [
    {
     "name": "stdout",
     "output_type": "stream",
     "text": [
      "True\n"
     ]
    }
   ],
   "source": [
    "# Write your own code\n",
    "\n",
    "animal = \"dog\"\n",
    "\n",
    "list_animals = [\"cat\", \"rabbit\", \"dog\"]\n",
    "\n",
    "print(animal in list_animals)\n"
   ]
  },
  {
   "cell_type": "markdown",
   "metadata": {},
   "source": [
    "<font size = \"5\">\n",
    "\n",
    "(e) Classifying a variable\n",
    "\n",
    "<font size = \"3\">\n",
    "\n",
    "- Define a new variable \"temperature\" and assign it \"25\"\n",
    "- Write an if/else statement that does the following\n",
    "    - Prints \"Temperature below 15\" if the temperature is less than or equal to 15.\n",
    "    - Prints \"Temperature between 15 and 20\" if the temperature is strictly greater <br>\n",
    "    than 15 \n",
    "     and less than or equal to 20.\n",
    "    - Prints \"Temperature above 20\" if the temperature is strictly higher than 20.\n",
    "\n",
    "\n",
    "To get full points you must do all of the above instructions"
   ]
  },
  {
   "cell_type": "code",
   "execution_count": 27,
   "metadata": {},
   "outputs": [
    {
     "name": "stdout",
     "output_type": "stream",
     "text": [
      "Temperature above 20\n"
     ]
    }
   ],
   "source": [
    "# Write your own code\n",
    "\n",
    "temperature = 25\n",
    "\n",
    "if temperature <= 15:\n",
    "    print(\"Temperature below 15\")\n",
    "elif 15 < temperature <= 20:\n",
    "    print(\"Temperature between 15 and 20\")\n",
    "else:\n",
    "    print(\"Temperature above 20\")\n",
    "\n"
   ]
  }
 ],
 "metadata": {
  "kernelspec": {
   "display_name": "Python 3",
   "language": "python",
   "name": "python3"
  },
  "language_info": {
   "codemirror_mode": {
    "name": "ipython",
    "version": 3
   },
   "file_extension": ".py",
   "mimetype": "text/x-python",
   "name": "python",
   "nbconvert_exporter": "python",
   "pygments_lexer": "ipython3",
   "version": "3.9.13"
  },
  "orig_nbformat": 4,
  "vscode": {
   "interpreter": {
    "hash": "aee8b7b246df8f9039afb4144a1f6fd8d2ca17a180786b69acc140d282b71a49"
   }
  }
 },
 "nbformat": 4,
 "nbformat_minor": 2
}
